{
  "cells": [
    {
      "cell_type": "raw",
      "metadata": {},
      "source": [
        "---\n",
        "title: Intro to BKT\n",
        "subtitle: 'TM Module 1: Case Study Key'\n",
        "author: LASER Institute\n",
        "date: today\n",
        "format:\n",
        "  html:\n",
        "    toc: true\n",
        "    toc-depth: 4\n",
        "    toc-location: right\n",
        "theme:\n",
        "  light: simplex\n",
        "  dark: cyborg\n",
        "editor: visual\n",
        "bibliography: lit/references.bib\n",
        "---"
      ],
      "id": "421b3f31"
    },
    {
      "cell_type": "markdown",
      "metadata": {},
      "source": [
        "## 1. PREPARE\n",
        "\n",
        "Our first KT case study is guided by the work of\n",
        "\n",
        "Our primary aim for this case study is to gain some hands-on experience with essential Python packages and functions for KT. We learn how to \\[BROAD GOAL\\] Specifically, this case study will cover the following topics pertaining to each data-intensive workflow process [@krumm2018]:\n",
        "\n",
        "1.  **Prepare**: Prior to analysis, we'll look at the context from which our data came, formulate some research questions, and get introduced the {X} and {X} packages for BKT.\n",
        "\n",
        "2.  **Wrangle**: In the wrangling section of our case study, we will learn...\n",
        "\n",
        "3.  **Explore**: With our network data tidied, we learn to calculate...\n",
        "\n",
        "4.  **Model**: We conclude our analysis by...\n",
        "\n",
        "5.  **Communicate**:\n",
        "\n",
        "### 1a. Review the Research\n",
        "\n",
        "![](img/baker-corbet.png)\n",
        "\n",
        "Pittinsky, M., & Carolan, B. V. (2008). Behavioral versus cognitive classroom friendship networks. *Social Psychology of Education*, *11*(2), 133-147.\n",
        "\n",
        "#### Abstract\n",
        "\n",
        "Some students, when working in interactive learning environments, attempt to “game the system”, attempting to succeed in the environment by exploiting properties of the system rather than by learning the material and trying to use that knowledge to answer correctly. In this paper, we present a system that can accurately detect whether a student is gaming the system, within a Cognitive Tutor mathematics curricula. Our detector also distinguishes between two distinct types of gaming which are associated with different learning outcomes. We explore this detector’s generalizability, and find that it transfers successfully to both new students and new tutor lessons.\n",
        "\n",
        "#### Research Questions\n",
        "\n",
        "The central question guiding this investigation was:\n",
        "\n",
        "> Is the Detector Accurate Enough to Use to Drive Interventions?\n",
        "\n",
        "We will be using this question to guide our own analysis...\n",
        "\n",
        "#### Data Collection\n",
        "\n",
        "How data was collected...\n",
        "\n",
        "#### Analyses\n",
        "\n",
        "#### Key Findings\n",
        "\n",
        "> Finding\n",
        "\n",
        "#### ❓Question\n",
        "\n",
        "Type a brief response in the space below:\n",
        "\n",
        "-   YOUR RESPONSE HERE\n",
        "\n",
        "### 1b. Load Packages\n",
        "\n",
        "A Python package or library is a collection of modules that offer a set of functions, classes, and variables that enable developers and data analysts to perform many tasks without writing their code from scratch. These can include everything from performing mathematical operations to handling network communications, manipulating images, and more.\n",
        "\n",
        "#### pyBKT 📦\n",
        "\n",
        "Based on the work of Zachary A. Pardos and Matthew J. Johnson, the {pyBKT} package is a Python implementation of the Bayesian Knowledge Tracing algorithm and variants, estimating student cognitive mastery from problem solving sequences [@badrinath2021pybkt].\n",
        "\n",
        "pyBKT can be used to define and fit many BKT variants, including these from the literature:\n",
        "\n",
        "-   Individual student priors, learn rate, guess, and slip\n",
        "\n",
        "-   Individual item guess and slip\n",
        "\n",
        "-   Individual item or resource learn rate\n",
        "\n",
        "Click the green arrow in the right corner of the \"code chunk\" that follows to load the {pandas} library introduced in LA Workflow labs.\n"
      ],
      "id": "88425f04"
    },
    {
      "cell_type": "code",
      "metadata": {},
      "source": [
        "from pyBKT.models import Model"
      ],
      "id": "73ed940c",
      "execution_count": null,
      "outputs": []
    },
    {
      "cell_type": "markdown",
      "metadata": {},
      "source": [
        "#### pandas 📦\n",
        "\n",
        "![](img/pandas.svg){width=\"30%\"}\n",
        "\n",
        "One package that we'll be using extensively is {pandas}. [Pandas](https://pandas.pydata.org) [@mckinney-proc-scipy-2010] is a powerful and flexible open source data analysis and wrangling tool for Python that is used widely by the data science community.\n",
        "\n",
        "Click the green arrow in the right corner of the \"code chunk\" that follows to load the {pandas} library introduced in LA Workflow labs.\n"
      ],
      "id": "f9e6bfff"
    },
    {
      "cell_type": "code",
      "metadata": {},
      "source": [
        "import pandas as pd"
      ],
      "id": "3bcff407",
      "execution_count": null,
      "outputs": []
    },
    {
      "cell_type": "markdown",
      "metadata": {},
      "source": [
        "#### SciPy 📦\n",
        "\n",
        "![](img/scipy.svg){width=\"20%\"}\n",
        "\n",
        "SciPy is a collection of mathematical algorithms and convenience functions built on NumPy. It adds significant power to Python by providing the user with high-level commands and classes for manipulating and visualizing data.\n",
        "\n",
        "Click the green arrow in the right corner of the \"code chunk\" that follows to load the {scipy} library:\n"
      ],
      "id": "6674ff5b"
    },
    {
      "cell_type": "code",
      "metadata": {},
      "source": [
        "import scipy as sp"
      ],
      "id": "a9c3523f",
      "execution_count": null,
      "outputs": []
    },
    {
      "cell_type": "markdown",
      "metadata": {},
      "source": [
        "#### Pyplot 📦\n",
        "\n",
        "![](img/matplotlib.png){width=\"20%\"}\n",
        "\n",
        "Pyplot is a module in the {matplotlib) package, a comprehensive library for creating static, animated, and interactive visualizations in Python. **`pyplot`** provides a MATLAB-like interface for making plots and is particularly suited for interactive plotting and simple cases of programmatic plot generation.\n",
        "\n",
        "Click the green arrow in the right corner of the \"code chunk\" that follows to load **`pyplot`**:\n"
      ],
      "id": "df57054b"
    },
    {
      "cell_type": "code",
      "metadata": {},
      "source": [
        "import matplotlib.pyplot as plt"
      ],
      "id": "45908519",
      "execution_count": null,
      "outputs": []
    },
    {
      "cell_type": "markdown",
      "metadata": {},
      "source": [
        "#### \n",
        "\n",
        "#### **👉 Your Turn** **⤵**\n",
        "\n",
        "Use the code chunk below to import the pyBKT package as `nx`:\n"
      ],
      "id": "56b90160"
    },
    {
      "cell_type": "code",
      "metadata": {},
      "source": [
        "# YOUR CODE HERE\n"
      ],
      "id": "a5cc8dd4",
      "execution_count": null,
      "outputs": []
    },
    {
      "cell_type": "markdown",
      "metadata": {},
      "source": [
        "## 2. WRANGLE\n",
        "\n",
        "In general, data wrangling involves some combination of cleaning, reshaping, transforming, and merging data [@wickham2016r]. As highlighted in @estrellado2020e, wrangling network data can be even more challenging than other data sources since network data often includes variables about both individuals and their relationships.\n",
        "\n",
        "For our data wrangling in module 1, we're keeping it relatively simple since working with relational data is a bit of a departure from working with rectangular data frames. Our primary goals for Lab 1 is learning how to:\n",
        "\n",
        "a.  **Import Data from Excel**. In this section, we learn about the `read_xlsx()` function for importing network data stored in two common formats: matrices and nodelists.\n",
        "\n",
        "b.  **Convert to Network Data Structure**. Before we can create our sociogram, we'll first need to convert our data frames into special data structure for storing graphs.\n",
        "\n",
        "### 2a. Import Data\n",
        "\n",
        "One of our primary goals for this case study to is create network graph called a sociogram that visually describes what a network \"looks like\" from the perspective of both students and their teacher. To do so, we'll need to import two Excel files originally obtained from the [Social Network Analysis and Education companion site](#0). Both files contain edges stored as a matrix and are included in the lab-1 data folder of your R Studio project. A description of each file from the companion website is copied below along with a link to the original file:\n",
        "\n",
        "1.  [**99472_ds3.xlsx**](https://studysites.sagepub.com/carolan/study/materials/datasets/99472_ds3.xlsx) This adjacency matrix consists of **student-reported** friendship relations among 27 students in one class in the fall semester. These data are directed and unweighted; a friendship tie is present if the student reported that another was either a best friend or friend.\n",
        "\n",
        "2.  [**99472_ds5.xlsx**](https://studysites.sagepub.com/carolan/study/materials/datasets/99472_ds5.xlsx) This adjacency matrix consists of the **teacher-reported** friendship relations among 27 students in one class in the fall semester. These data are directed and unweighted; a friendship tie is present if the teacher reported that students were either a best friend or friend.\n",
        "\n",
        "Relational data (i.e., information about the relationships among individuals in a network) are sometimes stored as an [adjacency matrix](https://en.wikipedia.org/wiki/Adjacency_matrix). Network data stored as a matrix includes a column and row for each actor in our network and each cell contains information about the **tie** between each pair of actors, often referred to as **edges**. In our case, each tie is **directed,** meaning that relationships between actors may not necessarily be reciprocated. For example, student 1 may report student 2 as a friend, but student 2 may or may not report student 1 as friend. If both student 2 and student 2 indicate each other as friends, then this tie, or edge, is considered **reciprocal** or **mutual**.\n",
        "\n",
        "#### Import Student-Reported Friendships\n",
        "\n",
        "Let's use the `read_excel()` function from the {pandas} package to import the `student-reported-friends.xlsx` file. In our function, we'll include an important \"argument\" called `header =` and set it to `None`. This tells Python that our file does not include column names and is important to include since our file is a simple matrix with no header or column names and by default this argument is set to true and would assign the first row which contains data about student friendships as names for each column.\n",
        "\n",
        "Finally, we need to make sure we can reference the matrix we import and use it later in our analysis. To do so, will save it to our \"Environment\" by assigning it to a variable which we will call `student_friends`.\n"
      ],
      "id": "b058b8a2"
    },
    {
      "cell_type": "code",
      "metadata": {},
      "source": [
        "student_friends = pd.read_excel(\"data/student-reported-friends.xlsx\", header = None)"
      ],
      "id": "f5ec679c",
      "execution_count": null,
      "outputs": []
    },
    {
      "cell_type": "markdown",
      "metadata": {},
      "source": [
        "#### **👉 Your Turn** **⤵**\n",
        "\n",
        "Before importing our teacher-reported friendship file, use the code chunk below to quickly inspect the `student_friends` data we just imported to see what we'll be working with.\n"
      ],
      "id": "b4e3b481"
    },
    {
      "cell_type": "code",
      "metadata": {},
      "source": [
        "# YOUR CODE HERE\n"
      ],
      "id": "3f77b1db",
      "execution_count": null,
      "outputs": []
    },
    {
      "cell_type": "markdown",
      "metadata": {},
      "source": [
        "You should now see a 27 x 27 data table that represents student-reported friendships stored as an adjacency matrix. As noted on pg. 140 of @pittinsky2008behavioral, students were given a class roster and asked to describe their relationship with each student using the following choices: best friend, friend, know-like, know, know-dislike, strongly dislike, and do not know. In the terminology of network analysis, these sociometric data are **valued** (degrees of friendship, not just yes or no).\n",
        "\n",
        "For the purpose of the their study, and for this case study as well, all “best friend” and “friend” choices are coded as ‘1’ (friend), while all other choices are coded as ‘0’ (not friend). This process of taking a valued relationship or tie (i.e., degrees of friendship, not just yes or no) and simplifying into a binary yes/no relationship is referred to as **dichotomization** and we'll explore the benefits and drawbacks of this process in Module 4.\n",
        "\n",
        "In addition to ties being valued or binary, they can also be undirected or directed. For example, in an **undirected** network**,** a friendship either exists between two actors or it does not. In a **directed** network, one actor or **ego** may indicate a relationship (e.g., friend or best friend), but the other actor or **alter** may indicate there is no friendship. If the relationship is present between both actors, however, the tie or edge is considered **reciprocated**.\n",
        "\n",
        "#### ❓Question\n",
        "\n",
        "Provide a brief response in the space below to the following questions: Do the data we just imported indicate that these friendship ties are directed or undirected? How can you tell?\n",
        "\n",
        "-   YOUR RESPONSE HERE\n",
        "\n",
        "#### Import Student Attributes\n",
        "\n",
        "Before importing our teacher-reported student friendships, we have another important file to import. As noted by @carolan2014 , most social network analyses include variables that describe the attributes of actors in a network. These attribute variables can be either categorical (e.g., sex, race, etc.) or continuous in nature (e.g., test scores, number of times absent, etc.).\n",
        "\n",
        "Actor attributes are stored a rectangular array, or data frame, in which rows represent a social entity (e.g., students, staff, schools, etc.), columns represent variables, and cells consist of values on those variables. This file containing a list of actors, or nodes, along with their attributes is sometimes referred to as a **node list**.\n",
        "\n",
        "Let's go ahead and read our node list into R and store as a new object called `student_attributes`:\n"
      ],
      "id": "bee90f1c"
    },
    {
      "cell_type": "code",
      "metadata": {},
      "source": [
        "student_attributes = pd.read_excel(\"data/student-attributes.xlsx\")\n",
        "\n",
        "student_attributes"
      ],
      "id": "dd38eaa7",
      "execution_count": null,
      "outputs": []
    },
    {
      "cell_type": "markdown",
      "metadata": {},
      "source": [
        "Note that when we imported this time, we left out the `header = None` argument. As mentioned earlier, by default this argument is set to TRUE and assumes the first row of your data frame will contain names of the variables. Since this was indeed the case, we didn't need to include this argument. We could, however, have included this argument and set it to `TRUE` and our resulting output would still be the same.\n",
        "\n",
        "#### **👉 Your Turn** **⤵**\n",
        "\n",
        "Complete the code chunk below to import the `teacher-reported-friends.xlsx` file and inspect your `teacher_friends` object.\n"
      ],
      "id": "a080a037"
    },
    {
      "cell_type": "code",
      "metadata": {},
      "source": [
        "# YOUR CODE HERE\n",
        "\n",
        "teacher_friends = ___(\"___\", header = None)\n",
        "\n",
        "teacher_friends"
      ],
      "id": "716a4ae9",
      "execution_count": null,
      "outputs": []
    },
    {
      "cell_type": "markdown",
      "metadata": {},
      "source": [
        "### 2b. Make a Network Data Structure\n",
        "\n",
        "Before we can begin exploring our data through through network visualization, we must first convert our `student_friends` object to a network using {networkx}.\n",
        "\n",
        "#### **Convert to Graph Object**\n",
        "\n",
        "The `from_pandas_adjacency()` function can easily convert pandas data frame to a graph.\n",
        "\n",
        "Run the following code to convert our adjacency matrix to directed network graph data structure, save as a new object called `student_network`, and `print()` some basic information about our network:\n"
      ],
      "id": "a5814a3d"
    },
    {
      "cell_type": "code",
      "metadata": {},
      "source": [
        "student_network = nx.from_pandas_adjacency(student_friends, create_using = nx.DiGraph())\n",
        "\n",
        "print(student_network)"
      ],
      "id": "eaea9b97",
      "execution_count": null,
      "outputs": []
    },
    {
      "cell_type": "markdown",
      "metadata": {},
      "source": [
        "Note that the **`create_using`** argument is used to specify the type of graph you want to create when using graph creation functions, such as **`nx.from_pandas_edgelist`**, **`nx.from_numpy_matrix`**, or in our case **`nx.from_pandas_adjacency`**. This argument allows you to define the graph class (e.g., undirected, directed, multigraph, etc.) that should be used for constructing the graph.\n",
        "\n",
        "By default, many NetworkX functions create an undirected graph. If you want to create a different type of graph, such as a directed graph (**`DiGraph`**), a multi-graph (**`MultiGraph`**) with multiple types of ties, or a directed multi-graph (**`MultiDiGraph`**), you can pass the corresponding class to the **`create_using =`** parameter. This is particularly useful when the nature of your data or the analysis you intend to perform requires a specific type of graph.\n",
        "\n",
        "#### Add Node Attributes\n",
        "\n",
        "Although an underlying assumption of social network analysis is that social relations are often more important for understanding behaviors and attitudes than attributes related to one's background (e.g., age, gender, etc.), these attributes often still play an important role in SNA. Specifcially attributes can enrich our understanding of networks by adding contextual information about actors and their relations. For example, actor attributes can be used to for:\n",
        "\n",
        "1.  **Community Detection**: Identifying groups with shared attributes, revealing substructures within the network.\n",
        "2.  **Homophily Analysis**: Examining the tendency for similar individuals to connect, shedding light on social cohesion.\n",
        "3.  **Influence and Diffusion**: Understanding how characteristics of individuals affect the spread of information or behaviors.\n",
        "4.  **Centrality Analysis**: Correlating attributes with centrality measures to assess individuals' influence based on their traits.\n",
        "5.  **Network Dynamics**: Investigating how changes in attributes correspond to the evolution of network structures.\n",
        "6.  **Statistical Modeling**: Incorporating attributes in models to explore the interplay between individual traits and network formation.\n",
        "7.  **Visualization**: Enhancing network visualizations by using attributes to differentiate nodes, making patterns more discernible.\n",
        "\n",
        "We will explore several of these use cases throughout the SNA modules, but for this case study, our focus will be to incoporate some student attribtues to enhance our visualizations.\n",
        "\n",
        "Run the following code to add the attributes in our `student_attributes` data frame to our network object `student_network` that we created earlier:\n"
      ],
      "id": "473f7cc2"
    },
    {
      "cell_type": "code",
      "metadata": {},
      "source": [
        "for _, row in student_attributes.iterrows():\n",
        "    node_id = row['id']\n",
        "    if node_id in student_network:\n",
        "        student_network.nodes[node_id]['name'] = row['name']\n",
        "        student_network.nodes[node_id]['gender'] = row['gender']\n",
        "        student_network.nodes[node_id]['achievement'] = row['achievement']\n",
        "        student_network.nodes[node_id]['gender_num'] = row['gender_num']\n",
        "        student_network.nodes[node_id]['achievement_num'] = row['achievement_num']"
      ],
      "id": "c3b16853",
      "execution_count": null,
      "outputs": []
    },
    {
      "cell_type": "markdown",
      "metadata": {},
      "source": [
        "There is a lot going on this this code so let's unpack this line by line. This code snippet iterates over each row of our `student_attributes` data frame and updates our network object named `student_network` with attributes for each student (node). Here's a step-by-step explanation:\n",
        "\n",
        "1.  `for _, row in student_attributes.iterrows():`\n",
        "    -   This line starts a loop that iterates through each row of the `student_attributes` DataFrame. The `iterrows()` function generates a sequence of index and row pairs for the DataFrame. Here, `_` is a placeholder for the row index, which is not used in the loop, and `row` represents the actual data of the current row as a Series object.\n",
        "2.  `node_id = row['id']`\n",
        "    -   For each row, this line extracts the value from the 'id' column, which is assumed to represent the unique identifier (ID) of a student. This ID will be used to reference the corresponding node in the `student_network` graph.\n",
        "3.  `if node_id in student_network:`\n",
        "    -   This conditional statement checks if a node with the ID `node_id` exists in the `student_network` graph. This is important to avoid attempting to set attributes for non-existent nodes.\n",
        "4.  Inside the `if` block, the following lines set attributes for the node corresponding to `node_id` in the `student_network` graph:\n",
        "    -   `student_network.nodes[node_id]['gender'] = row['gender']`\n",
        "        -   This line sets the 'gender' attribute of the node to the value found in the 'gender' column of the current row.\n",
        "    -   `student_network.nodes[node_id]['achievement'] = row['achievement']`\n",
        "        -   This line sets the 'achievement' attribute of the node to the value found in the 'achievement' column of the current row.\n",
        "    -   `student_network.nodes[node_id]['gender_num'] = row['gender_num']`\n",
        "        -   This line sets the 'gender_num' attribute (likely a numerical representation of gender) of the node to the value found in the 'gender_num' column of the current row.\n",
        "    -   `student_network.nodes[node_id]['achievement_num'] = row['achievement_num']`\n",
        "        -   This line sets the 'achievement_num' attribute (possibly a numerical representation of achievement level) of the node to the value found in the 'achievement_num' column of the current row.\n",
        "    -   `student_network.nodes[node_id]['name'] = row['name']`\n",
        "        -   This line sets the 'name' attribute of the node to the value found in the 'name' column of the current row, assigning a personal name to the node.\n",
        "\n",
        "Before we move on, let's take a quick look at each node's attribute data to make sure our code above worked as intended:\n"
      ],
      "id": "9f369821"
    },
    {
      "cell_type": "code",
      "metadata": {},
      "source": [
        "list(student_network.nodes(data=True))"
      ],
      "id": "a9d6a5c5",
      "execution_count": null,
      "outputs": []
    },
    {
      "cell_type": "markdown",
      "metadata": {},
      "source": [
        "Excellent, each node in our network object now\n",
        "\n",
        "#### **👉 Your Turn** **⤵**\n",
        "\n",
        "Complete the code chunk below to convert your `teacher_friends` object first to a matrix and then to a network object that contains information about both the teacher-reported student friendships and the attributes of students:\n"
      ],
      "id": "332773d7"
    },
    {
      "cell_type": "code",
      "metadata": {},
      "source": [
        "# YOUR CODE HERE\n",
        "\n",
        "teacher_network = nx.___(___, create_using = nx.DiGraph())\n",
        "\n",
        "for _, row in ___.iterrows():\n",
        "    node_id = row['id']\n",
        "    if node_id in ___:\n",
        "        teacher_network.nodes[node_id]['name'] = row['name']\n",
        "        teacher_network.nodes[node_id]['gender'] = row['gender']\n",
        "        teacher_network.nodes[node_id]['achievement'] = row['achievement']\n",
        "        teacher_network.nodes[node_id]['gender_num'] = row['gender_num']\n",
        "        teacher_network.nodes[node_id]['achievement_num'] = row['achievement_num']\n",
        "\n",
        "print(teacher_network)"
      ],
      "id": "c6675413",
      "execution_count": null,
      "outputs": []
    },
    {
      "cell_type": "markdown",
      "metadata": {},
      "source": [
        "#### ❓Question\n",
        "\n",
        "Now answer the following questions:\n",
        "\n",
        "1.  How many students are in our network?\n",
        "\n",
        "    -   YOUR RESPONSE HERE\n",
        "\n",
        "2.  Who reported more friendships, teachers or students? How do you know?\n",
        "\n",
        "    -   YOUR RESPONSE HERE\n",
        "\n",
        "## 3. EXPLORE\n",
        "\n",
        "As noted in our course readings, one of the defining characteristics of the social network perspective is its use of graphic imagery to represent actors and their relations with one another. To emphasize this point, @carolan2014 reported that:\n",
        "\n",
        "> The visualization of social networks has been a core practice since its foundation more than 100 years ago and remains a hallmark of contemporary social network analysis. \n",
        "\n",
        "Network visualization can be used for a variety of purposes, ranging from highlighting key actors to even serving as works of art.\n",
        "\n",
        "This excellent figure from Katya Ognyanova's also excellent tutorial on [Static and Dynamic Network Visualization with R](https://kateto.net/network-visualization/) helps illustrate the variety of goals a good network visualization can accomplish:\n",
        "\n",
        "![](img/viz-goals.jpeg){width=\"80%\"}\n",
        "\n",
        "In Section 3 work focus on just visualization, and will use the {tidygraph} package to create a network sociogram to help visually describe our network and compare teacher and student reported friendships. Specifically, in this section we'll learn to make a:\n",
        "\n",
        "a.  **Simple Sociogram**. We learn about the basic `draw()` function for creating a very quick network plot when just a quick visual inspection is needed.\n",
        "\n",
        "b.  **Sophisticated Sociogram**. We then dive deeper in to the `draw_kamada_kawai()` function with various parameters and learn to plot nodes and edges in our network and tweak key elements like the size, shape, and position of nodes and edges to better at communicating key findings.\n",
        "\n",
        "### 3a. Simple Sociograms\n",
        "\n",
        "These visual representations of the actors and their relations, i.e. the network, are called a **sociogram**. Actors who are most central to the network, such as those with higher node degrees, or those with more friends in our case study, are usually placed in the center of the sociogram and their ties are placed near them.\n",
        "\n",
        "In the code chunk below, use the `draw()` function with your `student_network` object to see what the basic plot function produces:\n"
      ],
      "id": "0e9a582b"
    },
    {
      "cell_type": "code",
      "metadata": {},
      "source": [
        "nx.draw(student_network)\n",
        "plt.show()"
      ],
      "id": "cc9b8f9a",
      "execution_count": null,
      "outputs": []
    },
    {
      "cell_type": "markdown",
      "metadata": {},
      "source": [
        "If this had been a smaller network it might have been a little more useful but one important insight is that we have already identified an \"isolate\" in our network, i.e., student 18 who neither named others as a friend or was named by others as a friend.\n",
        "\n",
        "Fortunately, the {networkx} package includes a range of [drawing](https://networkx.org/documentation/stable/reference/drawing.html) and functions for improving for improving the visual design of network graphs.\n",
        "\n",
        "Run the following code to try out the `kamada_kawai_layout()` layout and add some informative labels to our graph:\n"
      ],
      "id": "ae55e596"
    },
    {
      "cell_type": "code",
      "metadata": {},
      "source": [
        "# Position the nodes using one of the layout algorithms\n",
        "pos = nx.spring_layout(student_network)\n",
        "\n",
        "# Draw the graph without node labels\n",
        "nx.draw(student_network, pos, with_labels=False)\n",
        "\n",
        "# Extract the 'name' attribute from each node to use as labels\n",
        "labels = nx.get_node_attributes(G, 'name')\n",
        "\n",
        "# Draw node labels using the 'name' attribute\n",
        "nx.draw_networkx_labels(G, pos, labels, font_size=8)\n",
        "\n",
        "# Display the graph\n",
        "plt.show()"
      ],
      "id": "9f0dc807",
      "execution_count": null,
      "outputs": []
    },
    {
      "cell_type": "markdown",
      "metadata": {},
      "source": [
        "Much better. Now, let's unpack what's happening in this code:\n",
        "\n",
        "-   **`nx.kamada_kawai_layout(G)`** computes the position of nodes based on the Kamada-Kawai layout algorithm, which is designed to produce visually appealing layouts by considering the graph's structure.\n",
        "\n",
        "-   **`nx.draw()`** is used to draw the graph, with **`with_labels=True`** ensuring that the default node identifiers are used as labels.\n",
        "\n",
        "-   The **`node_color`** and **`node_size`** parameters are set for visual customization, but you can adjust these according to your preference.\n",
        "\n",
        "This generates a visualization of your network with nodes positioned according to the Kamada-Kawai layout and labeled with their default identifiers.\n",
        "\n",
        "#### **👉 Your Turn** **⤵**\n",
        "\n",
        "Use the code chunk below to try out these simple sociogram functions on your `teacher_network` object you created above:\n",
        "\n",
        "\n",
        "```{r teacher-sociogram}\n",
        "# YOUR CODE HERE\n",
        "\n",
        "```\n",
        "\n",
        "\n",
        "Not exactly great graphs, but they already provided some insight into our research questions. Specifically, we can see visually that teacher and student reported peer networks are very different!\n",
        "\n",
        "### 3b. Sophisticated Sociograms\n",
        "\n",
        "Not exactly great graphs, but they already provided some insight into our research questions. Specifically, we can see visually that teacher and student reported peer networks are very different!\n",
        "\n",
        "Run the following code chunk to see some additional arguments were added into the new layout. We assign different colors for gender and adjust the size of nodes, font, width, and transparency of the arrows.\n"
      ],
      "id": "d0e087f7"
    },
    {
      "cell_type": "code",
      "metadata": {},
      "source": [
        "plt.figure(figsize=(50,35))\n",
        "pos = nx.kamada_kawai_layout(student_network)\n",
        "\n",
        "node_colors = [\"lightsteelblue\" if student_attributes.loc[n].at['gender_num'] == 0 else \"salmon\" for n in range(student_attributes.shape[0])]\n",
        "#set nodes\n",
        "node_options={\"node_color\": node_colors,\"node_size\":100}\n",
        "#set edges\n",
        "edge_options = {\"width\":.50, \"alpha\":.5, \"edge_color\":\"black\"} #width of the lines and their transparency\n",
        "\n",
        "#set labels\n",
        "node_label_options = {\"font_size\":7, \"font_color\":\"black\", \"verticalalignment\":\"bottom\", \"horizontalalignment\":\"left\"}\n",
        "\n",
        "#draw nodes, edges, labels\n",
        "nx.draw_networkx_nodes(student_network, pos, **node_options)\n",
        "nx.draw_networkx_edges(student_network, pos, **edge_options)\n",
        "nx.draw_networkx_labels(student_network, pos, **node_label_options)\n",
        "plt.show()"
      ],
      "id": "3767110b",
      "execution_count": null,
      "outputs": []
    },
    {
      "cell_type": "markdown",
      "metadata": {},
      "source": [
        "#### ❓Question\n",
        "\n",
        "What do the colors of the nodes represent in the sociogram above?\n",
        "\n",
        "-   YOUR RESPONSE HERE\n",
        "\n",
        "#### Add Node Sizes\n",
        "\n",
        "We can also count the number of friendships for each student and visualize it on our graph with different sizes of nodes.\n"
      ],
      "id": "15ec42f1"
    },
    {
      "cell_type": "code",
      "metadata": {},
      "source": [
        "from collections import Counter\n",
        "friends = [edge[0] for edge in student_network.edges()]\n",
        "\n",
        "# Counting the number of friends\n",
        "num_friends = Counter(friends)\n",
        "\n",
        "#store in a data frame\n",
        "friendships = pd.DataFrame(list(num_friends.items()), columns=['student', 'number of friends'])\n",
        "print(friendships)"
      ],
      "id": "7431d7e5",
      "execution_count": null,
      "outputs": []
    },
    {
      "cell_type": "markdown",
      "metadata": {},
      "source": [
        "We can see that our student 18 is missing from the list as it was not present in the edges.\n",
        "\n",
        "That is why we need to add 18th student to our data frame and sort it so that the number of friendships is consistent with the number of students we have.\n"
      ],
      "id": "2797b1a2"
    },
    {
      "cell_type": "code",
      "metadata": {},
      "source": [
        "new_row = pd.DataFrame({'student': [18], 'number of friends': [0]})\n",
        "friendships = pd.concat([friendships, new_row], ignore_index=True)\n",
        "friendships = friendships.sort_values(by='student')\n",
        "print(friendships)"
      ],
      "id": "fefe9d52",
      "execution_count": null,
      "outputs": []
    },
    {
      "cell_type": "markdown",
      "metadata": {},
      "source": [
        "Now we can see our 18th student with 0 friends reported.\n",
        "\n",
        "Let's use these data to improve our graph:\n"
      ],
      "id": "2a82bc58"
    },
    {
      "cell_type": "code",
      "metadata": {},
      "source": [
        "plt.figure()\n",
        "pos = nx.kamada_kawai_layout(student_network)\n",
        "\n",
        "# Set node size based on number of friends\n",
        "node_sizes = [friendships['number of friends'].iloc[i]*40 for i in range(len(friendships))]\n",
        "\n",
        "# Set node colors based on gender\n",
        "node_colors = [\"lightsteelblue\" if student_attributes.loc[n].at['gender_num'] == 0 else \"salmon\" for n in student_network.nodes()]\n",
        "\n",
        "# Set node options\n",
        "node_options = {\"node_color\": node_colors, \"node_size\": [node_sizes[n] for n in student_network.nodes()]}\n",
        "\n",
        "# Set edge options\n",
        "edge_options = {\"width\": 0.5, \"alpha\": 0.5, \"edge_color\": \"black\"}\n",
        "\n",
        "# Set label options\n",
        "node_label_options = {\"font_size\": 7, \"font_color\": \"black\", \"verticalalignment\": \"bottom\", \"horizontalalignment\": \"left\"}\n",
        "\n",
        "# Draw nodes, edges, labels\n",
        "nx.draw_networkx_nodes(student_network, pos, **node_options)\n",
        "nx.draw_networkx_edges(student_network, pos, **edge_options)\n",
        "nx.draw_networkx_labels(student_network, pos, **node_label_options)\n",
        "plt.show()"
      ],
      "id": "11181fba",
      "execution_count": null,
      "outputs": []
    },
    {
      "cell_type": "markdown",
      "metadata": {},
      "source": [
        "#### **👉 Your Turn** **⤵**\n",
        "\n",
        "Use the code chunk below to try out these more sophisticated sociogram functions on your `teacher_network` object you created above:\n"
      ],
      "id": "bc7f1a97"
    },
    {
      "cell_type": "code",
      "metadata": {},
      "source": [
        "# YOUR CODE HERE\n"
      ],
      "id": "7a6f029e",
      "execution_count": null,
      "outputs": []
    },
    {
      "cell_type": "markdown",
      "metadata": {},
      "source": [
        "#### ❓Question\n",
        "\n",
        "Do the colors of the nodes in teachers' sociogram represent the same information as in the students' one? How do you know?\n",
        "\n",
        "\\*YOUR ANSWER HERE\\*\n",
        "\n",
        "Let's change teachers' network graph to display different node sizes depending on the number of friendships reported:\n"
      ],
      "id": "69547472"
    },
    {
      "cell_type": "code",
      "metadata": {},
      "source": [
        "friends_teach = [edge[0] for edge in teacher_network.edges()]\n",
        "\n",
        "# Counting the number of friends\n",
        "num_friends = Counter(friends_teach)\n",
        "\n",
        "#store in a data frame\n",
        "friendships_teach = pd.DataFrame(list(num_friends.items()), columns=['student', 'number of friends'])\n",
        "\n",
        "print(friendships_teach)"
      ],
      "id": "f906ace3",
      "execution_count": null,
      "outputs": []
    },
    {
      "cell_type": "markdown",
      "metadata": {},
      "source": [
        "It seems like teachers did not see any friendships between students 18, 19, and the rest of the class. So let's manually add them:\n"
      ],
      "id": "57e58c7f"
    },
    {
      "cell_type": "code",
      "metadata": {},
      "source": [
        "new_row_1 = pd.DataFrame({'student': [18], 'number of friends': [0]})\n",
        "new_row_2 = pd.DataFrame({'student': [19], 'number of friends': [0]})\n",
        "friendships_teach = pd.concat([friendships_teach, new_row_1], ignore_index=True)\n",
        "friendships_teach = pd.concat([friendships_teach, new_row_2], ignore_index=True)\n",
        "friendships_teach = friendships_teach.sort_values(by='student')\n",
        "print(friendships_teach)"
      ],
      "id": "f8cef32d",
      "execution_count": null,
      "outputs": []
    },
    {
      "cell_type": "markdown",
      "metadata": {},
      "source": [
        "#### **👉 Your Turn** **⤵**\n",
        "\n",
        "Now that you have a sense of how the **networkx** package works to build network graphs, use the code chunk below and try building a sophisticated sociogram for the `teacher_network` object that you created changing the node size parameter.\n"
      ],
      "id": "2961a29a"
    },
    {
      "cell_type": "code",
      "metadata": {},
      "source": [
        "# YOUR CODE HERE\n",
        "plt.figure(figsize=(10, 8))\n",
        "pos = nx.kamada_kawai_layout(teacher_network)\n",
        "\n",
        "# Set node size based on number of friends\n",
        "node_sizes = [friendships_teach['number of friends'].iloc[i]*40 for i in range(len(friendships_teach))]#YOUR CODE HERE\n",
        "\n",
        "# Set node colors based on gender\n",
        "node_colors = [\"lightsteelblue\" if student_attributes.loc[n].at['gender_num'] == 0 else \"salmon\" for n in student_network.nodes()]\n",
        "\n",
        "#set nodes\n",
        "node_options={\"node_color\": node_colors, \"node_size\":[node_sizes[n] for n in student_network.nodes()]}\n",
        "#set edges\n",
        "edge_options = {\"width\":.50, \"alpha\":.5, \"edge_color\":\"black\"}\n",
        "#set labels\n",
        "node_label_options = {\"font_size\":7, \"font_color\":\"black\", \"verticalalignment\":\"bottom\", \"horizontalalignment\":\"left\"}\n",
        "\n",
        "#draw nodes, edges, labels\n",
        "nx.draw_networkx_nodes(teacher_network, pos, **node_options)\n",
        "nx.draw_networkx_edges(teacher_network, pos, **edge_options)\n",
        "nx.draw_networkx_labels(teacher_network, pos, **node_label_options)\n",
        "plt.title('Teacher Sociogram')\n",
        "plt.show()"
      ],
      "id": "8f92dad6",
      "execution_count": null,
      "outputs": []
    },
    {
      "cell_type": "markdown",
      "metadata": {},
      "source": [
        "**Note:** If you're having difficulty seeing the sociogram in the small code chunk, you can copy and paste the code in the console and it will show in the Viewer pan and then you can enlarge and even save as an image file.\n",
        "\n",
        "Congrats, you made it to the end of the EXPLORE section and created your first sociogram in Python!\n",
        "\n",
        "## 4. MODEL\n",
        "\n",
        "As highlighted in [Chapter 3 of Data Science in Education Using R](https://datascienceineducation.com/c03.html), the **Model** step of the data science process entails \"using statistical models, from simple to complex, to understand trends and patterns in the data.\" We will not explore the use of models for SNA until Lab 4, but recall from the PREPARE section that to assess agreement between perceived friendships by the teacher and students, [@pittinsky2008behavioral] note that:\n",
        "\n",
        "> **The QAP (quadratic assignment procedure)** \\[is\\] used to calculate the degree of association between two sets of relations and tests whether the probability of dyad overlap in the teacher matrix is correlated with the probability of dyad overlap in the student matrix. It does so by running a large number of simulations. These simulations generate random matrices with sizes and value distributions based on the original two matrices being tested.\n",
        "\n",
        "We will learn more about the QAP and other models for statistical inference when working with relational data in Learning Lab 4.\n",
        "\n",
        "## 5. COMMUNICATE\n",
        "\n",
        "The final step in the workflow/process is sharing the results of your analysis with wider audience. Krumm et al. @krumm2018 have outlined the following 3-step process for communicating with education stakeholders findings from an analysis:\n",
        "\n",
        "1.  **Select.** Communicating what one has learned involves selecting among those analyses that are most important and most useful to an intended audience, as well as selecting a form for displaying that information, such as a graph or table in static or interactive form, i.e. a \"data product.\"\n",
        "\n",
        "2.  **Polish**. After creating initial versions of data products, research teams often spend time refining or polishing them, by adding or editing titles, labels, and notations and by working with colors and shapes to highlight key points.\n",
        "\n",
        "3.  **Narrate.** Writing a narrative to accompany the data products involves, at a minimum, pairing a data product with its related research question, describing how best to interpret the data product, and explaining the ways in which the data product helps answer the research question and might be used to inform new analyses or a \"change idea\" for improving student learning.\n",
        "\n",
        "### Render File\n",
        "\n",
        "For your SNA Badge, you will have an opportunity to create a simple \"data product\" designed to illustrate some insights gained from your analysis and ideally highlight an action step or change idea that can be used to improve learning or the contexts in which learning occurs.\n",
        "\n",
        "For now, we will wrap up this case study by converting your work to an HTML file that can be published and used to communicate your learning and demonstrate some of your new R skills. To do so, you will need to \"render\" your document by clicking the ![](img/render.png){width=\"4%\"} Render button in the menu bar at that the top of this file.\n",
        "\n",
        "Rendering a document does two important things:\n",
        "\n",
        "1.  checks through all your code for any errors; and,\n",
        "\n",
        "2.  creates a file in your directory that you can use to share you work .\n",
        "\n",
        "Now that you've finished your first case study, click the \"Render\" button in the toolbar at the top of your document to covert this Quarto document to a HTML web page, just one of [the many publishing formats you can create with Quarto](https://quarto.org/docs/output-formats/all-formats.html) documents.\n",
        "\n",
        "If the files rendered correctly, you should now see a new file named `sna-1-case-study-R.html` in the Files tab located in the bottom right corner of R Studio. If so, congratulations, you just completed the getting started activity! You're now ready for the unit Case Studies that we will complete during the third week of each unit.\n",
        "\n",
        "::: callout-important\n",
        "If you encounter errors when you try to render, first check the case study answer key located in the files pane and has the suggested code for the Your Turns. If you are still having difficulties, try copying and pasting the error into Google or ChatGPT to see if you can resolve the issue. Finally, contact your instructor to debug the code together if you're still having issues.\n",
        ":::\n",
        "\n",
        "### Publish File\n",
        "\n",
        "Rendered HTML files can be published online through a variety of ways including [Posit Cloud](https://posit.cloud/learn/guide#publish-from-cloud), [RPubs](#0) , [GitHub Pages](#0), [Quarto Pub](#0), or [other methods](#0). The easiest way to quickly publish your file online is to publish directly from RStudio. You can do so by clicking the \"Publish\" button located in the Viewer Pane after you render your document as illustrated in the screenshot below.\n",
        "\n",
        "![](img/publish.png)\n",
        "\n",
        "Congratulations, you've completed the case study! If you've already completed the Essential Readings, you're now ready to earn your first SNA LASER Badge!\n",
        "\n",
        "### References"
      ],
      "id": "a12525be"
    }
  ],
  "metadata": {
    "kernelspec": {
      "name": "python3",
      "language": "python",
      "display_name": "Python 3 (ipykernel)"
    }
  },
  "nbformat": 4,
  "nbformat_minor": 5
}